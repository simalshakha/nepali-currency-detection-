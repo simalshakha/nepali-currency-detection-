{
 "cells": [
  {
   "cell_type": "code",
   "execution_count": 1,
   "metadata": {
    "_cell_guid": "b1076dfc-b9ad-4769-8c92-a6c4dae69d19",
    "_uuid": "8f2839f25d086af736a60e9eeb907d3b93b6e0e5",
    "execution": {
     "iopub.execute_input": "2025-09-28T12:20:16.830934Z",
     "iopub.status.busy": "2025-09-28T12:20:16.830736Z",
     "iopub.status.idle": "2025-09-28T12:20:23.846016Z",
     "shell.execute_reply": "2025-09-28T12:20:23.845451Z",
     "shell.execute_reply.started": "2025-09-28T12:20:16.830916Z"
    },
    "trusted": true
   },
   "outputs": [],
   "source": [
    "from torchvision import transforms\n",
    "from PIL import Image\n",
    "from torchvision import transforms\n",
    "from PIL import Image\n",
    "\n",
    "# Heavy augmentation for all non-Nepal countries\n",
    "heavy_aug = transforms.Compose([\n",
    "    transforms.Resize((224,224)),\n",
    "    transforms.RandomRotation(12),\n",
    "    transforms.ColorJitter(brightness=0.4, contrast=0.4, saturation=0.4, hue=0.1),\n",
    "    transforms.RandomHorizontalFlip(),\n",
    "    transforms.RandomApply([transforms.GaussianBlur(3)], p=0.5),\n",
    "    transforms.RandomApply([transforms.RandomPerspective(distortion_scale=0.5)], p=0.5),\n",
    "    transforms.ToTensor()\n",
    "])\n",
    "\n",
    "# Light/basic augmentation for Nepal only\n",
    "light_aug = transforms.Compose([\n",
    "    transforms.Resize((224,224)),\n",
    "    transforms.ToTensor()\n",
    "])\n",
    "\n",
    "country_map = {\n",
    "    \"nepali\": 0,\n",
    "    \"indian\": 1,\n",
    "    \"bagladesh\": 2,\n",
    "    \"pakistan\": 3,\n",
    "    \"USA\": 4,\n",
    "    \"euro\": 5\n",
    "}\n",
    "\n",
    "denomination_map = {\n",
    "    \"5\": 0,\n",
    "    \"10\": 1,\n",
    "    \"20\": 2,\n",
    "    \"50\": 3,\n",
    "    \"100\": 4,\n",
    "    \"500\": 5,\n",
    "    \"1000\": 6,\n",
    "    \"2000\": 7,\n",
    "    \"5000\": 8,\n",
    "    \"2\":9,\n",
    "    \"1\":10,\n",
    "    \"200\":11\n",
    "}\n",
    "\n"
   ]
  },
  {
   "cell_type": "code",
   "execution_count": 2,
   "metadata": {
    "execution": {
     "iopub.execute_input": "2025-09-28T12:20:23.847023Z",
     "iopub.status.busy": "2025-09-28T12:20:23.846649Z",
     "iopub.status.idle": "2025-09-28T12:20:23.852888Z",
     "shell.execute_reply": "2025-09-28T12:20:23.852215Z",
     "shell.execute_reply.started": "2025-09-28T12:20:23.846998Z"
    },
    "trusted": true
   },
   "outputs": [],
   "source": [
    "import os\n",
    "from torch.utils.data import Dataset\n",
    "\n",
    "class CurrencyDataset(Dataset):\n",
    "    def __init__(self, root_dir):\n",
    "        self.samples = []\n",
    "        for country in os.listdir(root_dir):\n",
    "            c_path = os.path.join(root_dir, country)\n",
    "            for denom in os.listdir(c_path):\n",
    "                d_path = os.path.join(c_path, denom)\n",
    "                for img in os.listdir(d_path):\n",
    "                    self.samples.append((\n",
    "                        os.path.join(d_path, img),\n",
    "                        country,\n",
    "                        denom\n",
    "                    ))\n",
    "\n",
    "    def __len__(self):\n",
    "        return len(self.samples)\n",
    "\n",
    "    def __getitem__(self, idx):\n",
    "        img_path, country, denom = self.samples[idx]\n",
    "        img = Image.open(img_path).convert(\"RGB\")\n",
    "\n",
    "        # Heavy augmentation for all except Nepal\n",
    "        if country != \"nepali\":\n",
    "            img = heavy_aug(img)\n",
    "        else:\n",
    "            img = light_aug(img)\n",
    "\n",
    "        c_label = country_map[country]\n",
    "        d_label = denomination_map[denom]\n",
    "        return img, c_label, d_label\n",
    "\n"
   ]
  },
  {
   "cell_type": "code",
   "execution_count": 3,
   "metadata": {
    "execution": {
     "iopub.execute_input": "2025-09-28T12:20:23.855214Z",
     "iopub.status.busy": "2025-09-28T12:20:23.854624Z",
     "iopub.status.idle": "2025-09-28T12:20:24.841305Z",
     "shell.execute_reply": "2025-09-28T12:20:24.840722Z",
     "shell.execute_reply.started": "2025-09-28T12:20:23.855197Z"
    },
    "trusted": true
   },
   "outputs": [],
   "source": [
    "from torch.utils.data import DataLoader, random_split\n",
    "\n",
    "dataset = CurrencyDataset(root_dir=\"/kaggle/input/paisaa/paisa(resized)/train\")\n",
    "train_size = int(0.8 * len(dataset))\n",
    "val_size   = len(dataset) - train_size\n",
    "train_dataset, val_dataset = random_split(dataset, [train_size, val_size])\n",
    "\n",
    "train_loader = DataLoader(train_dataset, batch_size=32, shuffle=True, num_workers=4)\n",
    "val_loader   = DataLoader(val_dataset, batch_size=32, shuffle=False, num_workers=4)\n"
   ]
  },
  {
   "cell_type": "code",
   "execution_count": 4,
   "metadata": {
    "execution": {
     "iopub.execute_input": "2025-09-28T12:20:24.842197Z",
     "iopub.status.busy": "2025-09-28T12:20:24.841994Z",
     "iopub.status.idle": "2025-09-28T12:20:24.847185Z",
     "shell.execute_reply": "2025-09-28T12:20:24.846423Z",
     "shell.execute_reply.started": "2025-09-28T12:20:24.842180Z"
    },
    "trusted": true
   },
   "outputs": [
    {
     "name": "stdout",
     "output_type": "stream",
     "text": [
      "Number of images: 31154\n",
      "Number of batches per epoch: 974\n"
     ]
    }
   ],
   "source": [
    "print(\"Number of images:\", len(train_dataset))\n",
    "print(\"Number of batches per epoch:\", len(train_loader))\n"
   ]
  },
  {
   "cell_type": "code",
   "execution_count": 5,
   "metadata": {
    "execution": {
     "iopub.execute_input": "2025-09-28T12:20:24.848153Z",
     "iopub.status.busy": "2025-09-28T12:20:24.847971Z",
     "iopub.status.idle": "2025-09-28T12:20:24.860978Z",
     "shell.execute_reply": "2025-09-28T12:20:24.860334Z",
     "shell.execute_reply.started": "2025-09-28T12:20:24.848138Z"
    },
    "trusted": true
   },
   "outputs": [],
   "source": [
    "# import torch\n",
    "# import torch.nn as nn\n",
    "# import torchvision.models as models\n",
    "\n",
    "# device = \"cuda\" if torch.cuda.is_available() else \"cpu\"\n",
    "\n",
    "# num_countries = len(country_map)    # e.g., 6\n",
    "# num_denoms    = len(denomination_map)  # e.g., 9\n",
    "\n",
    "# class MultiTaskModel(nn.Module):\n",
    "#     def __init__(self):\n",
    "#         super().__init__()\n",
    "#         backbone = models.resnet18(pretrained=True)\n",
    "#         self.features = nn.Sequential(*list(backbone.children())[:-1])  # remove final fc\n",
    "#         self.country_head = nn.Linear(backbone.fc.in_features, num_countries)\n",
    "#         self.denom_head   = nn.Linear(backbone.fc.in_features, num_denoms)\n",
    "\n",
    "#     def forward(self, x):\n",
    "#         x = self.features(x)\n",
    "#         x = x.view(x.size(0), -1)  # flatten\n",
    "#         country_out = self.country_head(x)\n",
    "#         denom_out   = self.denom_head(x)\n",
    "#         return country_out, denom_out\n",
    "\n",
    "# model = MultiTaskModel().to(device)\n"
   ]
  },
  {
   "cell_type": "code",
   "execution_count": 6,
   "metadata": {
    "execution": {
     "iopub.execute_input": "2025-09-28T12:20:24.861943Z",
     "iopub.status.busy": "2025-09-28T12:20:24.861714Z",
     "iopub.status.idle": "2025-09-28T12:20:24.880143Z",
     "shell.execute_reply": "2025-09-28T12:20:24.879521Z",
     "shell.execute_reply.started": "2025-09-28T12:20:24.861926Z"
    },
    "trusted": true
   },
   "outputs": [],
   "source": [
    "import torch\n",
    "import torch.nn as nn\n",
    "import torch.nn.functional as F\n",
    "\n",
    "class SimpleMultiTaskCNN(nn.Module):\n",
    "    def __init__(self, num_countries, num_denoms):\n",
    "        super(SimpleMultiTaskCNN, self).__init__()\n",
    "        \n",
    "        # --- Shared CNN Backbone ---\n",
    "        self.features = nn.Sequential(\n",
    "            nn.Conv2d(3, 32, kernel_size=3, padding=1),  # [B,32,224,224]\n",
    "            nn.ReLU(),\n",
    "            nn.MaxPool2d(2),                             # [B,32,112,112]\n",
    "            \n",
    "            nn.Conv2d(32, 64, kernel_size=3, padding=1),\n",
    "            nn.ReLU(),\n",
    "            nn.MaxPool2d(2),                             # [B,64,56,56]\n",
    "            \n",
    "            nn.Conv2d(64, 128, kernel_size=3, padding=1),\n",
    "            nn.ReLU(),\n",
    "            nn.MaxPool2d(2),                             # [B,128,28,28]\n",
    "            \n",
    "            nn.Conv2d(128, 256, kernel_size=3, padding=1),\n",
    "            nn.ReLU(),\n",
    "            nn.AdaptiveAvgPool2d((1, 1))                 # [B,256,1,1]\n",
    "        )\n",
    "\n",
    "        # Flattened feature size = 256\n",
    "        self.country_head = nn.Linear(256, num_countries)\n",
    "        self.denom_head   = nn.Linear(256, num_denoms)\n",
    "\n",
    "    def forward(self, x):\n",
    "        x = self.features(x)\n",
    "        x = x.view(x.size(0), -1)        # flatten [B,256]\n",
    "        country_out = self.country_head(x)\n",
    "        denom_out   = self.denom_head(x)\n",
    "        return country_out, denom_out\n",
    "\n",
    "\n"
   ]
  },
  {
   "cell_type": "code",
   "execution_count": 7,
   "metadata": {
    "execution": {
     "iopub.execute_input": "2025-09-28T12:20:24.881046Z",
     "iopub.status.busy": "2025-09-28T12:20:24.880804Z",
     "iopub.status.idle": "2025-09-28T12:20:24.899241Z",
     "shell.execute_reply": "2025-09-28T12:20:24.898618Z",
     "shell.execute_reply.started": "2025-09-28T12:20:24.881022Z"
    },
    "trusted": true
   },
   "outputs": [],
   "source": [
    "import torch\n",
    "import torch.nn as nn\n",
    "import torch.nn.functional as F\n",
    "\n",
    "class ImprovedMultiTaskCNN(nn.Module):\n",
    "    def __init__(self, num_countries, num_denoms):\n",
    "        super(ImprovedMultiTaskCNN, self).__init__()\n",
    "        \n",
    "        # --- Shared CNN Backbone ---\n",
    "        self.features = nn.Sequential(\n",
    "            # Block 1\n",
    "            nn.Conv2d(3, 64, kernel_size=3, padding=1),   # [B,64,224,224]\n",
    "            nn.BatchNorm2d(64),\n",
    "            nn.ReLU(),\n",
    "            nn.Conv2d(64, 64, kernel_size=3, padding=1),  # extra conv for richer features\n",
    "            nn.BatchNorm2d(64),\n",
    "            nn.ReLU(),\n",
    "            nn.MaxPool2d(2),                              # [B,64,112,112]\n",
    "\n",
    "            # Block 2\n",
    "            nn.Conv2d(64, 128, kernel_size=3, padding=1),\n",
    "            nn.BatchNorm2d(128),\n",
    "            nn.ReLU(),\n",
    "            nn.Conv2d(128, 128, kernel_size=3, padding=1),\n",
    "            nn.BatchNorm2d(128),\n",
    "            nn.ReLU(),\n",
    "            nn.MaxPool2d(2),                              # [B,128,56,56]\n",
    "\n",
    "            # Block 3\n",
    "            nn.Conv2d(128, 256, kernel_size=3, padding=1),\n",
    "            nn.BatchNorm2d(256),\n",
    "            nn.ReLU(),\n",
    "            nn.Conv2d(256, 256, kernel_size=3, padding=1),\n",
    "            nn.BatchNorm2d(256),\n",
    "            nn.ReLU(),\n",
    "            nn.MaxPool2d(2),                              # [B,256,28,28]\n",
    "\n",
    "            # Block 4\n",
    "            nn.Conv2d(256, 512, kernel_size=3, padding=1),\n",
    "            nn.BatchNorm2d(512),\n",
    "            nn.ReLU(),\n",
    "            nn.Conv2d(512, 512, kernel_size=3, padding=1),\n",
    "            nn.BatchNorm2d(512),\n",
    "            nn.ReLU(),\n",
    "            nn.AdaptiveAvgPool2d((1, 1))                  # [B,512,1,1]\n",
    "        )\n",
    "\n",
    "        # --- Task-specific Heads ---\n",
    "        self.country_head = nn.Sequential(\n",
    "            nn.Dropout(0.5),\n",
    "            nn.Linear(512, 256),\n",
    "            nn.ReLU(),\n",
    "            nn.Dropout(0.3),\n",
    "            nn.Linear(256, num_countries)\n",
    "        )\n",
    "\n",
    "        self.denom_head = nn.Sequential(\n",
    "            nn.Dropout(0.5),\n",
    "            nn.Linear(512, 256),\n",
    "            nn.ReLU(),\n",
    "            nn.Dropout(0.3),\n",
    "            nn.Linear(256, num_denoms)\n",
    "        )\n",
    "\n",
    "    def forward(self, x):\n",
    "        x = self.features(x)\n",
    "        x = x.view(x.size(0), -1)  # flatten [B,512]\n",
    "        country_out = self.country_head(x)\n",
    "        denom_out   = self.denom_head(x)\n",
    "        return country_out, denom_out\n"
   ]
  },
  {
   "cell_type": "code",
   "execution_count": 8,
   "metadata": {
    "execution": {
     "iopub.execute_input": "2025-09-28T12:20:24.900044Z",
     "iopub.status.busy": "2025-09-28T12:20:24.899876Z",
     "iopub.status.idle": "2025-09-28T12:20:25.183336Z",
     "shell.execute_reply": "2025-09-28T12:20:25.182678Z",
     "shell.execute_reply.started": "2025-09-28T12:20:24.900029Z"
    },
    "trusted": true
   },
   "outputs": [],
   "source": [
    "device = \"cuda\" if torch.cuda.is_available() else \"cpu\"\n",
    "num_countries = len(country_map)    # e.g., 6\n",
    "num_denoms    = len(denomination_map)  # e.g., 9\n",
    "model = ImprovedMultiTaskCNN(num_countries, num_denoms).to(device)"
   ]
  },
  {
   "cell_type": "code",
   "execution_count": 9,
   "metadata": {
    "execution": {
     "iopub.execute_input": "2025-09-28T12:20:25.185657Z",
     "iopub.status.busy": "2025-09-28T12:20:25.185471Z",
     "iopub.status.idle": "2025-09-28T12:20:25.190124Z",
     "shell.execute_reply": "2025-09-28T12:20:25.189574Z",
     "shell.execute_reply.started": "2025-09-28T12:20:25.185643Z"
    },
    "trusted": true
   },
   "outputs": [],
   "source": [
    "import torch.nn.functional as F\n",
    "import torch.optim as optim\n",
    "\n",
    "optimizer = optim.Adam(model.parameters(), lr=1e-4)\n",
    "\n",
    "def compute_loss(country_pred, denom_pred, country_label, denom_label):\n",
    "    loss_country = F.cross_entropy(country_pred, country_label)\n",
    "    loss_denom   = F.cross_entropy(denom_pred, denom_label)\n",
    "    return loss_country + loss_denom  # equal weighting\n"
   ]
  },
  {
   "cell_type": "code",
   "execution_count": 10,
   "metadata": {
    "execution": {
     "iopub.execute_input": "2025-09-28T12:20:25.191393Z",
     "iopub.status.busy": "2025-09-28T12:20:25.190805Z",
     "iopub.status.idle": "2025-09-28T16:49:24.377910Z",
     "shell.execute_reply": "2025-09-28T16:49:24.377013Z",
     "shell.execute_reply.started": "2025-09-28T12:20:25.191367Z"
    },
    "trusted": true
   },
   "outputs": [
    {
     "name": "stdout",
     "output_type": "stream",
     "text": [
      "\n",
      "Epoch [1/70]\n"
     ]
    },
    {
     "name": "stderr",
     "output_type": "stream",
     "text": [
      "                                                             \r"
     ]
    },
    {
     "name": "stdout",
     "output_type": "stream",
     "text": [
      "  ➜ Train Loss: 2.2920 | Country Acc: 0.7618 | Denom Acc: 0.4301\n",
      "  ➜ Val   Loss: 2.5604 | Country Acc: 0.6831 | Denom Acc: 0.4223\n",
      "  ➜ Learning Rate: 0.001000\n",
      "\n",
      "Epoch [2/70]\n"
     ]
    },
    {
     "name": "stderr",
     "output_type": "stream",
     "text": [
      "                                                             \r"
     ]
    },
    {
     "name": "stdout",
     "output_type": "stream",
     "text": [
      "  ➜ Train Loss: 1.5839 | Country Acc: 0.8303 | Denom Acc: 0.6039\n",
      "  ➜ Val   Loss: 1.4699 | Country Acc: 0.8485 | Denom Acc: 0.6220\n",
      "  ➜ Learning Rate: 0.001000\n",
      "\n",
      "Epoch [3/70]\n"
     ]
    },
    {
     "name": "stderr",
     "output_type": "stream",
     "text": [
      "                                                             \r"
     ]
    },
    {
     "name": "stdout",
     "output_type": "stream",
     "text": [
      "  ➜ Train Loss: 1.2802 | Country Acc: 0.8625 | Denom Acc: 0.6696\n",
      "  ➜ Val   Loss: 1.6783 | Country Acc: 0.8221 | Denom Acc: 0.5536\n",
      "  ➜ Learning Rate: 0.001000\n",
      "\n",
      "Epoch [4/70]\n"
     ]
    },
    {
     "name": "stderr",
     "output_type": "stream",
     "text": [
      "                                                             \r"
     ]
    },
    {
     "name": "stdout",
     "output_type": "stream",
     "text": [
      "  ➜ Train Loss: 1.1248 | Country Acc: 0.8878 | Denom Acc: 0.7013\n",
      "  ➜ Val   Loss: 1.1246 | Country Acc: 0.8875 | Denom Acc: 0.7030\n",
      "  ➜ Learning Rate: 0.001000\n",
      "\n",
      "Epoch [5/70]\n"
     ]
    },
    {
     "name": "stderr",
     "output_type": "stream",
     "text": [
      "                                                             \r"
     ]
    },
    {
     "name": "stdout",
     "output_type": "stream",
     "text": [
      "  ➜ Train Loss: 1.0132 | Country Acc: 0.9041 | Denom Acc: 0.7270\n",
      "  ➜ Val   Loss: 1.4170 | Country Acc: 0.8357 | Denom Acc: 0.6762\n",
      "  ➜ Learning Rate: 0.001000\n",
      "\n",
      "Epoch [6/70]\n"
     ]
    },
    {
     "name": "stderr",
     "output_type": "stream",
     "text": [
      "                                                             \r"
     ]
    },
    {
     "name": "stdout",
     "output_type": "stream",
     "text": [
      "  ➜ Train Loss: 0.9206 | Country Acc: 0.9177 | Denom Acc: 0.7488\n",
      "  ➜ Val   Loss: 0.8201 | Country Acc: 0.9281 | Denom Acc: 0.7695\n",
      "  ➜ Learning Rate: 0.001000\n",
      "\n",
      "Epoch [7/70]\n"
     ]
    },
    {
     "name": "stderr",
     "output_type": "stream",
     "text": [
      "                                                             \r"
     ]
    },
    {
     "name": "stdout",
     "output_type": "stream",
     "text": [
      "  ➜ Train Loss: 0.8276 | Country Acc: 0.9306 | Denom Acc: 0.7709\n",
      "  ➜ Val   Loss: 0.9804 | Country Acc: 0.9091 | Denom Acc: 0.7511\n",
      "  ➜ Learning Rate: 0.001000\n",
      "\n",
      "Epoch [8/70]\n"
     ]
    },
    {
     "name": "stderr",
     "output_type": "stream",
     "text": [
      "                                                             \r"
     ]
    },
    {
     "name": "stdout",
     "output_type": "stream",
     "text": [
      "  ➜ Train Loss: 0.7606 | Country Acc: 0.9377 | Denom Acc: 0.7935\n",
      "  ➜ Val   Loss: 0.9307 | Country Acc: 0.9313 | Denom Acc: 0.7453\n",
      "  ➜ Learning Rate: 0.001000\n",
      "\n",
      "Epoch [9/70]\n"
     ]
    },
    {
     "name": "stderr",
     "output_type": "stream",
     "text": [
      "                                                             \r"
     ]
    },
    {
     "name": "stdout",
     "output_type": "stream",
     "text": [
      "  ➜ Train Loss: 0.6906 | Country Acc: 0.9461 | Denom Acc: 0.8090\n",
      "  ➜ Val   Loss: 0.6240 | Country Acc: 0.9517 | Denom Acc: 0.8233\n",
      "  ➜ Learning Rate: 0.001000\n",
      "\n",
      "Epoch [10/70]\n"
     ]
    },
    {
     "name": "stderr",
     "output_type": "stream",
     "text": [
      "                                                             \r"
     ]
    },
    {
     "name": "stdout",
     "output_type": "stream",
     "text": [
      "  ➜ Train Loss: 0.6284 | Country Acc: 0.9518 | Denom Acc: 0.8252\n",
      "  ➜ Val   Loss: 1.4061 | Country Acc: 0.8499 | Denom Acc: 0.7417\n",
      "  ➜ Learning Rate: 0.000500\n",
      "\n",
      "Epoch [11/70]\n"
     ]
    },
    {
     "name": "stderr",
     "output_type": "stream",
     "text": [
      "                                                             \r"
     ]
    },
    {
     "name": "stdout",
     "output_type": "stream",
     "text": [
      "  ➜ Train Loss: 0.5067 | Country Acc: 0.9655 | Denom Acc: 0.8581\n",
      "  ➜ Val   Loss: 0.4314 | Country Acc: 0.9701 | Denom Acc: 0.8821\n",
      "  ➜ Learning Rate: 0.000500\n",
      "\n",
      "Epoch [12/70]\n"
     ]
    },
    {
     "name": "stderr",
     "output_type": "stream",
     "text": [
      "                                                             \r"
     ]
    },
    {
     "name": "stdout",
     "output_type": "stream",
     "text": [
      "  ➜ Train Loss: 0.4692 | Country Acc: 0.9697 | Denom Acc: 0.8670\n",
      "  ➜ Val   Loss: 0.4088 | Country Acc: 0.9739 | Denom Acc: 0.8884\n",
      "  ➜ Learning Rate: 0.000500\n",
      "\n",
      "Epoch [13/70]\n"
     ]
    },
    {
     "name": "stderr",
     "output_type": "stream",
     "text": [
      "                                                             \r"
     ]
    },
    {
     "name": "stdout",
     "output_type": "stream",
     "text": [
      "  ➜ Train Loss: 0.4362 | Country Acc: 0.9728 | Denom Acc: 0.8766\n",
      "  ➜ Val   Loss: 0.3532 | Country Acc: 0.9818 | Denom Acc: 0.9017\n",
      "  ➜ Learning Rate: 0.000500\n",
      "\n",
      "Epoch [14/70]\n"
     ]
    },
    {
     "name": "stderr",
     "output_type": "stream",
     "text": [
      "                                                             \r"
     ]
    },
    {
     "name": "stdout",
     "output_type": "stream",
     "text": [
      "  ➜ Train Loss: 0.4145 | Country Acc: 0.9760 | Denom Acc: 0.8825\n",
      "  ➜ Val   Loss: 0.3432 | Country Acc: 0.9809 | Denom Acc: 0.9086\n",
      "  ➜ Learning Rate: 0.000500\n",
      "\n",
      "Epoch [15/70]\n"
     ]
    },
    {
     "name": "stderr",
     "output_type": "stream",
     "text": [
      "                                                             \r"
     ]
    },
    {
     "name": "stdout",
     "output_type": "stream",
     "text": [
      "  ➜ Train Loss: 0.3921 | Country Acc: 0.9772 | Denom Acc: 0.8898\n",
      "  ➜ Val   Loss: 0.3228 | Country Acc: 0.9825 | Denom Acc: 0.9092\n",
      "  ➜ Learning Rate: 0.000500\n",
      "\n",
      "Epoch [16/70]\n"
     ]
    },
    {
     "name": "stderr",
     "output_type": "stream",
     "text": [
      "                                                             \r"
     ]
    },
    {
     "name": "stdout",
     "output_type": "stream",
     "text": [
      "  ➜ Train Loss: 0.3651 | Country Acc: 0.9794 | Denom Acc: 0.8955\n",
      "  ➜ Val   Loss: 0.3095 | Country Acc: 0.9811 | Denom Acc: 0.9148\n",
      "  ➜ Learning Rate: 0.000500\n",
      "\n",
      "Epoch [17/70]\n"
     ]
    },
    {
     "name": "stderr",
     "output_type": "stream",
     "text": [
      "                                                             \r"
     ]
    },
    {
     "name": "stdout",
     "output_type": "stream",
     "text": [
      "  ➜ Train Loss: 0.3491 | Country Acc: 0.9807 | Denom Acc: 0.9002\n",
      "  ➜ Val   Loss: 0.3946 | Country Acc: 0.9752 | Denom Acc: 0.8925\n",
      "  ➜ Learning Rate: 0.000500\n",
      "\n",
      "Epoch [18/70]\n"
     ]
    },
    {
     "name": "stderr",
     "output_type": "stream",
     "text": [
      "                                                             \r"
     ]
    },
    {
     "name": "stdout",
     "output_type": "stream",
     "text": [
      "  ➜ Train Loss: 0.3369 | Country Acc: 0.9817 | Denom Acc: 0.9050\n",
      "  ➜ Val   Loss: 0.2689 | Country Acc: 0.9870 | Denom Acc: 0.9267\n",
      "  ➜ Learning Rate: 0.000500\n",
      "\n",
      "Epoch [19/70]\n"
     ]
    },
    {
     "name": "stderr",
     "output_type": "stream",
     "text": [
      "                                                             \r"
     ]
    },
    {
     "name": "stdout",
     "output_type": "stream",
     "text": [
      "  ➜ Train Loss: 0.3141 | Country Acc: 0.9849 | Denom Acc: 0.9088\n",
      "  ➜ Val   Loss: 0.2968 | Country Acc: 0.9828 | Denom Acc: 0.9162\n",
      "  ➜ Learning Rate: 0.000500\n",
      "\n",
      "Epoch [20/70]\n"
     ]
    },
    {
     "name": "stderr",
     "output_type": "stream",
     "text": [
      "                                                             \r"
     ]
    },
    {
     "name": "stdout",
     "output_type": "stream",
     "text": [
      "  ➜ Train Loss: 0.3023 | Country Acc: 0.9845 | Denom Acc: 0.9125\n",
      "  ➜ Val   Loss: 0.2591 | Country Acc: 0.9842 | Denom Acc: 0.9268\n",
      "  ➜ Learning Rate: 0.000250\n",
      "\n",
      "Epoch [21/70]\n"
     ]
    },
    {
     "name": "stderr",
     "output_type": "stream",
     "text": [
      "                                                             \r"
     ]
    },
    {
     "name": "stdout",
     "output_type": "stream",
     "text": [
      "  ➜ Train Loss: 0.2487 | Country Acc: 0.9885 | Denom Acc: 0.9284\n",
      "  ➜ Val   Loss: 0.1903 | Country Acc: 0.9917 | Denom Acc: 0.9440\n",
      "  ➜ Learning Rate: 0.000250\n",
      "\n",
      "Epoch [22/70]\n"
     ]
    },
    {
     "name": "stderr",
     "output_type": "stream",
     "text": [
      "                                                             \r"
     ]
    },
    {
     "name": "stdout",
     "output_type": "stream",
     "text": [
      "  ➜ Train Loss: 0.2412 | Country Acc: 0.9883 | Denom Acc: 0.9288\n",
      "  ➜ Val   Loss: 0.1862 | Country Acc: 0.9913 | Denom Acc: 0.9467\n",
      "  ➜ Learning Rate: 0.000250\n",
      "\n",
      "Epoch [23/70]\n"
     ]
    },
    {
     "name": "stderr",
     "output_type": "stream",
     "text": [
      "                                                             \r"
     ]
    },
    {
     "name": "stdout",
     "output_type": "stream",
     "text": [
      "  ➜ Train Loss: 0.2277 | Country Acc: 0.9896 | Denom Acc: 0.9336\n",
      "  ➜ Val   Loss: 0.1854 | Country Acc: 0.9929 | Denom Acc: 0.9474\n",
      "  ➜ Learning Rate: 0.000250\n",
      "\n",
      "Epoch [24/70]\n"
     ]
    },
    {
     "name": "stderr",
     "output_type": "stream",
     "text": [
      "                                                             \r"
     ]
    },
    {
     "name": "stdout",
     "output_type": "stream",
     "text": [
      "  ➜ Train Loss: 0.2197 | Country Acc: 0.9905 | Denom Acc: 0.9361\n",
      "  ➜ Val   Loss: 0.1968 | Country Acc: 0.9906 | Denom Acc: 0.9480\n",
      "  ➜ Learning Rate: 0.000250\n",
      "\n",
      "Epoch [25/70]\n"
     ]
    },
    {
     "name": "stderr",
     "output_type": "stream",
     "text": [
      "                                                             \r"
     ]
    },
    {
     "name": "stdout",
     "output_type": "stream",
     "text": [
      "  ➜ Train Loss: 0.2190 | Country Acc: 0.9901 | Denom Acc: 0.9374\n",
      "  ➜ Val   Loss: 0.1821 | Country Acc: 0.9917 | Denom Acc: 0.9481\n",
      "  ➜ Learning Rate: 0.000250\n",
      "\n",
      "Epoch [26/70]\n"
     ]
    },
    {
     "name": "stderr",
     "output_type": "stream",
     "text": [
      "                                                             \r"
     ]
    },
    {
     "name": "stdout",
     "output_type": "stream",
     "text": [
      "  ➜ Train Loss: 0.2045 | Country Acc: 0.9911 | Denom Acc: 0.9401\n",
      "  ➜ Val   Loss: 0.1668 | Country Acc: 0.9927 | Denom Acc: 0.9538\n",
      "  ➜ Learning Rate: 0.000250\n",
      "\n",
      "Epoch [27/70]\n"
     ]
    },
    {
     "name": "stderr",
     "output_type": "stream",
     "text": [
      "                                                             \r"
     ]
    },
    {
     "name": "stdout",
     "output_type": "stream",
     "text": [
      "  ➜ Train Loss: 0.2024 | Country Acc: 0.9911 | Denom Acc: 0.9419\n",
      "  ➜ Val   Loss: 0.1802 | Country Acc: 0.9924 | Denom Acc: 0.9512\n",
      "  ➜ Learning Rate: 0.000250\n",
      "\n",
      "Epoch [28/70]\n"
     ]
    },
    {
     "name": "stderr",
     "output_type": "stream",
     "text": [
      "                                                             \r"
     ]
    },
    {
     "name": "stdout",
     "output_type": "stream",
     "text": [
      "  ➜ Train Loss: 0.1939 | Country Acc: 0.9923 | Denom Acc: 0.9430\n",
      "  ➜ Val   Loss: 0.1605 | Country Acc: 0.9936 | Denom Acc: 0.9552\n",
      "  ➜ Learning Rate: 0.000250\n",
      "\n",
      "Epoch [29/70]\n"
     ]
    },
    {
     "name": "stderr",
     "output_type": "stream",
     "text": [
      "                                                             \r"
     ]
    },
    {
     "name": "stdout",
     "output_type": "stream",
     "text": [
      "  ➜ Train Loss: 0.1837 | Country Acc: 0.9923 | Denom Acc: 0.9466\n",
      "  ➜ Val   Loss: 0.1619 | Country Acc: 0.9942 | Denom Acc: 0.9544\n",
      "  ➜ Learning Rate: 0.000250\n",
      "\n",
      "Epoch [30/70]\n"
     ]
    },
    {
     "name": "stderr",
     "output_type": "stream",
     "text": [
      "                                                             \r"
     ]
    },
    {
     "name": "stdout",
     "output_type": "stream",
     "text": [
      "  ➜ Train Loss: 0.1808 | Country Acc: 0.9929 | Denom Acc: 0.9489\n",
      "  ➜ Val   Loss: 0.1418 | Country Acc: 0.9947 | Denom Acc: 0.9597\n",
      "  ➜ Learning Rate: 0.000125\n",
      "\n",
      "Epoch [31/70]\n"
     ]
    },
    {
     "name": "stderr",
     "output_type": "stream",
     "text": [
      "                                                             \r"
     ]
    },
    {
     "name": "stdout",
     "output_type": "stream",
     "text": [
      "  ➜ Train Loss: 0.1557 | Country Acc: 0.9944 | Denom Acc: 0.9554\n",
      "  ➜ Val   Loss: 0.1200 | Country Acc: 0.9963 | Denom Acc: 0.9657\n",
      "  ➜ Learning Rate: 0.000125\n",
      "\n",
      "Epoch [32/70]\n"
     ]
    },
    {
     "name": "stderr",
     "output_type": "stream",
     "text": [
      "                                                             \r"
     ]
    },
    {
     "name": "stdout",
     "output_type": "stream",
     "text": [
      "  ➜ Train Loss: 0.1505 | Country Acc: 0.9938 | Denom Acc: 0.9567\n",
      "  ➜ Val   Loss: 0.1278 | Country Acc: 0.9947 | Denom Acc: 0.9624\n",
      "  ➜ Learning Rate: 0.000125\n",
      "\n",
      "Epoch [33/70]\n"
     ]
    },
    {
     "name": "stderr",
     "output_type": "stream",
     "text": [
      "                                                             \r"
     ]
    },
    {
     "name": "stdout",
     "output_type": "stream",
     "text": [
      "  ➜ Train Loss: 0.1474 | Country Acc: 0.9949 | Denom Acc: 0.9576\n",
      "  ➜ Val   Loss: 0.1211 | Country Acc: 0.9956 | Denom Acc: 0.9656\n",
      "  ➜ Learning Rate: 0.000125\n",
      "\n",
      "Epoch [34/70]\n"
     ]
    },
    {
     "name": "stderr",
     "output_type": "stream",
     "text": [
      "                                                             \r"
     ]
    },
    {
     "name": "stdout",
     "output_type": "stream",
     "text": [
      "  ➜ Train Loss: 0.1454 | Country Acc: 0.9946 | Denom Acc: 0.9573\n",
      "  ➜ Val   Loss: 0.1169 | Country Acc: 0.9960 | Denom Acc: 0.9662\n",
      "  ➜ Learning Rate: 0.000125\n",
      "\n",
      "Epoch [35/70]\n"
     ]
    },
    {
     "name": "stderr",
     "output_type": "stream",
     "text": [
      "                                                             \r"
     ]
    },
    {
     "name": "stdout",
     "output_type": "stream",
     "text": [
      "  ➜ Train Loss: 0.1484 | Country Acc: 0.9937 | Denom Acc: 0.9578\n",
      "  ➜ Val   Loss: 0.1150 | Country Acc: 0.9961 | Denom Acc: 0.9685\n",
      "  ➜ Learning Rate: 0.000125\n",
      "\n",
      "Epoch [36/70]\n"
     ]
    },
    {
     "name": "stderr",
     "output_type": "stream",
     "text": [
      "                                                             \r"
     ]
    },
    {
     "name": "stdout",
     "output_type": "stream",
     "text": [
      "  ➜ Train Loss: 0.1436 | Country Acc: 0.9942 | Denom Acc: 0.9578\n",
      "  ➜ Val   Loss: 0.1216 | Country Acc: 0.9940 | Denom Acc: 0.9657\n",
      "  ➜ Learning Rate: 0.000125\n",
      "\n",
      "Epoch [37/70]\n"
     ]
    },
    {
     "name": "stderr",
     "output_type": "stream",
     "text": [
      "                                                             \r"
     ]
    },
    {
     "name": "stdout",
     "output_type": "stream",
     "text": [
      "  ➜ Train Loss: 0.1338 | Country Acc: 0.9952 | Denom Acc: 0.9613\n",
      "  ➜ Val   Loss: 0.1165 | Country Acc: 0.9958 | Denom Acc: 0.9674\n",
      "  ➜ Learning Rate: 0.000125\n",
      "\n",
      "Epoch [38/70]\n"
     ]
    },
    {
     "name": "stderr",
     "output_type": "stream",
     "text": [
      "                                                             \r"
     ]
    },
    {
     "name": "stdout",
     "output_type": "stream",
     "text": [
      "  ➜ Train Loss: 0.1384 | Country Acc: 0.9944 | Denom Acc: 0.9599\n",
      "  ➜ Val   Loss: 0.1238 | Country Acc: 0.9944 | Denom Acc: 0.9643\n",
      "  ➜ Learning Rate: 0.000125\n",
      "\n",
      "Epoch [39/70]\n"
     ]
    },
    {
     "name": "stderr",
     "output_type": "stream",
     "text": [
      "                                                             \r"
     ]
    },
    {
     "name": "stdout",
     "output_type": "stream",
     "text": [
      "  ➜ Train Loss: 0.1293 | Country Acc: 0.9956 | Denom Acc: 0.9620\n",
      "  ➜ Val   Loss: 0.1189 | Country Acc: 0.9945 | Denom Acc: 0.9678\n",
      "  ➜ Learning Rate: 0.000125\n",
      "\n",
      "Epoch [40/70]\n"
     ]
    },
    {
     "name": "stderr",
     "output_type": "stream",
     "text": [
      "                                                             \r"
     ]
    },
    {
     "name": "stdout",
     "output_type": "stream",
     "text": [
      "  ➜ Train Loss: 0.1324 | Country Acc: 0.9955 | Denom Acc: 0.9608\n",
      "  ➜ Val   Loss: 0.1040 | Country Acc: 0.9955 | Denom Acc: 0.9721\n",
      "  ➜ Learning Rate: 0.000063\n",
      "\n",
      "Epoch [41/70]\n"
     ]
    },
    {
     "name": "stderr",
     "output_type": "stream",
     "text": [
      "                                                             \r"
     ]
    },
    {
     "name": "stdout",
     "output_type": "stream",
     "text": [
      "  ➜ Train Loss: 0.1210 | Country Acc: 0.9963 | Denom Acc: 0.9642\n",
      "  ➜ Val   Loss: 0.1041 | Country Acc: 0.9967 | Denom Acc: 0.9714\n",
      "  ➜ Learning Rate: 0.000063\n",
      "\n",
      "Epoch [42/70]\n"
     ]
    },
    {
     "name": "stderr",
     "output_type": "stream",
     "text": [
      "                                                             \r"
     ]
    },
    {
     "name": "stdout",
     "output_type": "stream",
     "text": [
      "  ➜ Train Loss: 0.1192 | Country Acc: 0.9958 | Denom Acc: 0.9657\n",
      "  ➜ Val   Loss: 0.0991 | Country Acc: 0.9960 | Denom Acc: 0.9711\n",
      "  ➜ Learning Rate: 0.000063\n",
      "\n",
      "Epoch [43/70]\n"
     ]
    },
    {
     "name": "stderr",
     "output_type": "stream",
     "text": [
      "                                                             \r"
     ]
    },
    {
     "name": "stdout",
     "output_type": "stream",
     "text": [
      "  ➜ Train Loss: 0.1192 | Country Acc: 0.9960 | Denom Acc: 0.9649\n",
      "  ➜ Val   Loss: 0.1007 | Country Acc: 0.9965 | Denom Acc: 0.9705\n",
      "  ➜ Learning Rate: 0.000063\n",
      "\n",
      "Epoch [44/70]\n"
     ]
    },
    {
     "name": "stderr",
     "output_type": "stream",
     "text": [
      "                                                             \r"
     ]
    },
    {
     "name": "stdout",
     "output_type": "stream",
     "text": [
      "  ➜ Train Loss: 0.1139 | Country Acc: 0.9958 | Denom Acc: 0.9675\n",
      "  ➜ Val   Loss: 0.0986 | Country Acc: 0.9960 | Denom Acc: 0.9718\n",
      "  ➜ Learning Rate: 0.000063\n",
      "\n",
      "Epoch [45/70]\n"
     ]
    },
    {
     "name": "stderr",
     "output_type": "stream",
     "text": [
      "                                                             \r"
     ]
    },
    {
     "name": "stdout",
     "output_type": "stream",
     "text": [
      "  ➜ Train Loss: 0.1123 | Country Acc: 0.9963 | Denom Acc: 0.9676\n",
      "  ➜ Val   Loss: 0.0957 | Country Acc: 0.9956 | Denom Acc: 0.9738\n",
      "  ➜ Learning Rate: 0.000063\n",
      "\n",
      "Epoch [46/70]\n"
     ]
    },
    {
     "name": "stderr",
     "output_type": "stream",
     "text": [
      "                                                             \r"
     ]
    },
    {
     "name": "stdout",
     "output_type": "stream",
     "text": [
      "  ➜ Train Loss: 0.1100 | Country Acc: 0.9961 | Denom Acc: 0.9675\n",
      "  ➜ Val   Loss: 0.0933 | Country Acc: 0.9961 | Denom Acc: 0.9724\n",
      "  ➜ Learning Rate: 0.000063\n",
      "\n",
      "Epoch [47/70]\n"
     ]
    },
    {
     "name": "stderr",
     "output_type": "stream",
     "text": [
      "                                                             \r"
     ]
    },
    {
     "name": "stdout",
     "output_type": "stream",
     "text": [
      "  ➜ Train Loss: 0.1084 | Country Acc: 0.9961 | Denom Acc: 0.9683\n",
      "  ➜ Val   Loss: 0.0890 | Country Acc: 0.9973 | Denom Acc: 0.9729\n",
      "  ➜ Learning Rate: 0.000063\n",
      "\n",
      "Epoch [48/70]\n"
     ]
    },
    {
     "name": "stderr",
     "output_type": "stream",
     "text": [
      "                                                             \r"
     ]
    },
    {
     "name": "stdout",
     "output_type": "stream",
     "text": [
      "  ➜ Train Loss: 0.1089 | Country Acc: 0.9964 | Denom Acc: 0.9668\n",
      "  ➜ Val   Loss: 0.0906 | Country Acc: 0.9963 | Denom Acc: 0.9760\n",
      "  ➜ Learning Rate: 0.000063\n",
      "\n",
      "Epoch [49/70]\n"
     ]
    },
    {
     "name": "stderr",
     "output_type": "stream",
     "text": [
      "                                                             \r"
     ]
    },
    {
     "name": "stdout",
     "output_type": "stream",
     "text": [
      "  ➜ Train Loss: 0.1085 | Country Acc: 0.9961 | Denom Acc: 0.9685\n",
      "  ➜ Val   Loss: 0.0901 | Country Acc: 0.9974 | Denom Acc: 0.9748\n",
      "  ➜ Learning Rate: 0.000063\n",
      "\n",
      "Epoch [50/70]\n"
     ]
    },
    {
     "name": "stderr",
     "output_type": "stream",
     "text": [
      "                                                             \r"
     ]
    },
    {
     "name": "stdout",
     "output_type": "stream",
     "text": [
      "  ➜ Train Loss: 0.1056 | Country Acc: 0.9958 | Denom Acc: 0.9692\n",
      "  ➜ Val   Loss: 0.0969 | Country Acc: 0.9969 | Denom Acc: 0.9714\n",
      "  ➜ Learning Rate: 0.000031\n",
      "\n",
      "Epoch [51/70]\n"
     ]
    },
    {
     "name": "stderr",
     "output_type": "stream",
     "text": [
      "                                                             \r"
     ]
    },
    {
     "name": "stdout",
     "output_type": "stream",
     "text": [
      "  ➜ Train Loss: 0.0992 | Country Acc: 0.9967 | Denom Acc: 0.9713\n",
      "  ➜ Val   Loss: 0.0877 | Country Acc: 0.9979 | Denom Acc: 0.9751\n",
      "  ➜ Learning Rate: 0.000031\n",
      "\n",
      "Epoch [52/70]\n"
     ]
    },
    {
     "name": "stderr",
     "output_type": "stream",
     "text": [
      "                                                             \r"
     ]
    },
    {
     "name": "stdout",
     "output_type": "stream",
     "text": [
      "  ➜ Train Loss: 0.0984 | Country Acc: 0.9969 | Denom Acc: 0.9711\n",
      "  ➜ Val   Loss: 0.0912 | Country Acc: 0.9960 | Denom Acc: 0.9741\n",
      "  ➜ Learning Rate: 0.000031\n",
      "\n",
      "Epoch [53/70]\n"
     ]
    },
    {
     "name": "stderr",
     "output_type": "stream",
     "text": [
      "                                                             \r"
     ]
    },
    {
     "name": "stdout",
     "output_type": "stream",
     "text": [
      "  ➜ Train Loss: 0.0999 | Country Acc: 0.9969 | Denom Acc: 0.9709\n",
      "  ➜ Val   Loss: 0.0854 | Country Acc: 0.9972 | Denom Acc: 0.9759\n",
      "  ➜ Learning Rate: 0.000031\n",
      "\n",
      "Epoch [54/70]\n"
     ]
    },
    {
     "name": "stderr",
     "output_type": "stream",
     "text": [
      "                                                             \r"
     ]
    },
    {
     "name": "stdout",
     "output_type": "stream",
     "text": [
      "  ➜ Train Loss: 0.0961 | Country Acc: 0.9968 | Denom Acc: 0.9719\n",
      "  ➜ Val   Loss: 0.0835 | Country Acc: 0.9967 | Denom Acc: 0.9765\n",
      "  ➜ Learning Rate: 0.000031\n",
      "\n",
      "Epoch [56/70]\n"
     ]
    },
    {
     "name": "stderr",
     "output_type": "stream",
     "text": [
      "                                                             \r"
     ]
    },
    {
     "name": "stdout",
     "output_type": "stream",
     "text": [
      "  ➜ Train Loss: 0.0962 | Country Acc: 0.9969 | Denom Acc: 0.9718\n",
      "  ➜ Val   Loss: 0.0815 | Country Acc: 0.9967 | Denom Acc: 0.9779\n",
      "  ➜ Learning Rate: 0.000031\n",
      "\n",
      "Epoch [57/70]\n"
     ]
    },
    {
     "name": "stderr",
     "output_type": "stream",
     "text": [
      "                                                             \r"
     ]
    },
    {
     "name": "stdout",
     "output_type": "stream",
     "text": [
      "  ➜ Train Loss: 0.0950 | Country Acc: 0.9971 | Denom Acc: 0.9718\n",
      "  ➜ Val   Loss: 0.0939 | Country Acc: 0.9970 | Denom Acc: 0.9741\n",
      "  ➜ Learning Rate: 0.000031\n",
      "\n",
      "Epoch [58/70]\n"
     ]
    },
    {
     "name": "stderr",
     "output_type": "stream",
     "text": [
      "                                                             \r"
     ]
    },
    {
     "name": "stdout",
     "output_type": "stream",
     "text": [
      "  ➜ Train Loss: 0.0968 | Country Acc: 0.9971 | Denom Acc: 0.9719\n",
      "  ➜ Val   Loss: 0.0888 | Country Acc: 0.9967 | Denom Acc: 0.9739\n",
      "  ➜ Learning Rate: 0.000031\n",
      "\n",
      "Epoch [59/70]\n"
     ]
    },
    {
     "name": "stderr",
     "output_type": "stream",
     "text": [
      "                                                             \r"
     ]
    },
    {
     "name": "stdout",
     "output_type": "stream",
     "text": [
      "  ➜ Train Loss: 0.0922 | Country Acc: 0.9968 | Denom Acc: 0.9737\n",
      "  ➜ Val   Loss: 0.0826 | Country Acc: 0.9981 | Denom Acc: 0.9755\n",
      "  ➜ Learning Rate: 0.000031\n",
      "\n",
      "Epoch [60/70]\n"
     ]
    },
    {
     "name": "stderr",
     "output_type": "stream",
     "text": [
      "                                                             \r"
     ]
    },
    {
     "name": "stdout",
     "output_type": "stream",
     "text": [
      "  ➜ Train Loss: 0.0931 | Country Acc: 0.9974 | Denom Acc: 0.9723\n",
      "  ➜ Val   Loss: 0.0830 | Country Acc: 0.9972 | Denom Acc: 0.9762\n",
      "  ➜ Learning Rate: 0.000016\n",
      "\n",
      "Epoch [61/70]\n"
     ]
    },
    {
     "name": "stderr",
     "output_type": "stream",
     "text": [
      "                                                             \r"
     ]
    },
    {
     "name": "stdout",
     "output_type": "stream",
     "text": [
      "  ➜ Train Loss: 0.0926 | Country Acc: 0.9970 | Denom Acc: 0.9726\n",
      "  ➜ Val   Loss: 0.0888 | Country Acc: 0.9970 | Denom Acc: 0.9739\n",
      "  ➜ Learning Rate: 0.000016\n",
      "\n",
      "Epoch [62/70]\n"
     ]
    },
    {
     "name": "stderr",
     "output_type": "stream",
     "text": [
      "                                                             \r"
     ]
    },
    {
     "name": "stdout",
     "output_type": "stream",
     "text": [
      "  ➜ Train Loss: 0.0915 | Country Acc: 0.9971 | Denom Acc: 0.9743\n",
      "  ➜ Val   Loss: 0.0825 | Country Acc: 0.9970 | Denom Acc: 0.9774\n",
      "  ➜ Learning Rate: 0.000016\n",
      "\n",
      "Epoch [63/70]\n"
     ]
    },
    {
     "name": "stderr",
     "output_type": "stream",
     "text": [
      "                                                             \r"
     ]
    },
    {
     "name": "stdout",
     "output_type": "stream",
     "text": [
      "  ➜ Train Loss: 0.0904 | Country Acc: 0.9967 | Denom Acc: 0.9737\n",
      "  ➜ Val   Loss: 0.0805 | Country Acc: 0.9974 | Denom Acc: 0.9761\n",
      "  ➜ Learning Rate: 0.000016\n",
      "\n",
      "Epoch [64/70]\n"
     ]
    },
    {
     "name": "stderr",
     "output_type": "stream",
     "text": [
      "                                                             \r"
     ]
    },
    {
     "name": "stdout",
     "output_type": "stream",
     "text": [
      "  ➜ Train Loss: 0.0912 | Country Acc: 0.9968 | Denom Acc: 0.9737\n",
      "  ➜ Val   Loss: 0.0857 | Country Acc: 0.9969 | Denom Acc: 0.9755\n",
      "  ➜ Learning Rate: 0.000016\n",
      "\n",
      "Epoch [65/70]\n"
     ]
    },
    {
     "name": "stderr",
     "output_type": "stream",
     "text": [
      "                                                             \r"
     ]
    },
    {
     "name": "stdout",
     "output_type": "stream",
     "text": [
      "  ➜ Train Loss: 0.0906 | Country Acc: 0.9974 | Denom Acc: 0.9733\n",
      "  ➜ Val   Loss: 0.0857 | Country Acc: 0.9969 | Denom Acc: 0.9759\n",
      "  ➜ Learning Rate: 0.000016\n",
      "\n",
      "Epoch [66/70]\n"
     ]
    },
    {
     "name": "stderr",
     "output_type": "stream",
     "text": [
      "                                                             \r"
     ]
    },
    {
     "name": "stdout",
     "output_type": "stream",
     "text": [
      "  ➜ Train Loss: 0.0878 | Country Acc: 0.9971 | Denom Acc: 0.9746\n",
      "  ➜ Val   Loss: 0.0780 | Country Acc: 0.9972 | Denom Acc: 0.9791\n",
      "  ➜ Learning Rate: 0.000016\n",
      "\n",
      "Epoch [67/70]\n"
     ]
    },
    {
     "name": "stderr",
     "output_type": "stream",
     "text": [
      "                                                             \r"
     ]
    },
    {
     "name": "stdout",
     "output_type": "stream",
     "text": [
      "  ➜ Train Loss: 0.0859 | Country Acc: 0.9972 | Denom Acc: 0.9749\n",
      "  ➜ Val   Loss: 0.0872 | Country Acc: 0.9965 | Denom Acc: 0.9770\n",
      "  ➜ Learning Rate: 0.000016\n",
      "\n",
      "Epoch [68/70]\n"
     ]
    },
    {
     "name": "stderr",
     "output_type": "stream",
     "text": [
      "                                                             \r"
     ]
    },
    {
     "name": "stdout",
     "output_type": "stream",
     "text": [
      "  ➜ Train Loss: 0.0857 | Country Acc: 0.9975 | Denom Acc: 0.9749\n",
      "  ➜ Val   Loss: 0.0865 | Country Acc: 0.9977 | Denom Acc: 0.9757\n",
      "  ➜ Learning Rate: 0.000016\n",
      "\n",
      "Epoch [69/70]\n"
     ]
    },
    {
     "name": "stderr",
     "output_type": "stream",
     "text": [
      "                                                             \r"
     ]
    },
    {
     "name": "stdout",
     "output_type": "stream",
     "text": [
      "  ➜ Train Loss: 0.0876 | Country Acc: 0.9974 | Denom Acc: 0.9745\n",
      "  ➜ Val   Loss: 0.0862 | Country Acc: 0.9981 | Denom Acc: 0.9750\n",
      "  ➜ Learning Rate: 0.000016\n",
      "\n",
      "Epoch [70/70]\n"
     ]
    },
    {
     "name": "stderr",
     "output_type": "stream",
     "text": [
      "                                                             "
     ]
    },
    {
     "name": "stdout",
     "output_type": "stream",
     "text": [
      "  ➜ Train Loss: 0.0878 | Country Acc: 0.9975 | Denom Acc: 0.9756\n",
      "  ➜ Val   Loss: 0.0850 | Country Acc: 0.9978 | Denom Acc: 0.9784\n",
      "  ➜ Learning Rate: 0.000008\n"
     ]
    },
    {
     "name": "stderr",
     "output_type": "stream",
     "text": [
      "\r"
     ]
    }
   ],
   "source": [
    "from tqdm import tqdm\n",
    "import torch\n",
    "\n",
    "num_epochs = 70        # more epochs\n",
    "initial_lr = 1e-3        # starting learning rate\n",
    "\n",
    "optimizer = torch.optim.Adam(model.parameters(), lr=initial_lr)\n",
    "# Cosine schedule or StepLR will give large steps early, smaller later\n",
    "scheduler = torch.optim.lr_scheduler.StepLR(optimizer, step_size=10, gamma=0.5)\n",
    "# ↓ halves LR every 10 epochs (you can tweak)\n",
    "\n",
    "for epoch in range(num_epochs):\n",
    "    model.train()\n",
    "    running_loss = 0.0\n",
    "    correct_country_train = 0\n",
    "    correct_denom_train   = 0\n",
    "    total_train = 0\n",
    "\n",
    "    print(f\"\\nEpoch [{epoch+1}/{num_epochs}]\")\n",
    "    for imgs, country_labels, denom_labels in tqdm(train_loader, desc=\"Training\", leave=False):\n",
    "        imgs = imgs.to(device)\n",
    "        country_labels = country_labels.to(device)\n",
    "        denom_labels   = denom_labels.to(device)\n",
    "\n",
    "        optimizer.zero_grad()\n",
    "        c_pred, d_pred = model(imgs)\n",
    "        loss = compute_loss(c_pred, d_pred, country_labels, denom_labels)\n",
    "        loss.backward()\n",
    "        optimizer.step()\n",
    "\n",
    "        running_loss += loss.item()\n",
    "\n",
    "        # ---- Training accuracy ----\n",
    "        _, c_pred_labels = torch.max(c_pred, 1)\n",
    "        _, d_pred_labels = torch.max(d_pred, 1)\n",
    "        total_train += imgs.size(0)\n",
    "        correct_country_train += (c_pred_labels == country_labels).sum().item()\n",
    "        correct_denom_train   += (d_pred_labels == denom_labels).sum().item()\n",
    "\n",
    "    scheduler.step()  # decrease learning rate\n",
    "    train_loss = running_loss / len(train_loader)\n",
    "    train_country_acc = correct_country_train / total_train\n",
    "    train_denom_acc   = correct_denom_train / total_train\n",
    "\n",
    "    # ---------------- Validation ---------------- #\n",
    "    model.eval()\n",
    "    correct_country = 0\n",
    "    correct_denom   = 0\n",
    "    total = 0\n",
    "    val_loss = 0.0\n",
    "\n",
    "    with torch.no_grad():\n",
    "        for imgs, country_labels, denom_labels in tqdm(val_loader, desc=\"Validating\", leave=False):\n",
    "            imgs = imgs.to(device)\n",
    "            country_labels = country_labels.to(device)\n",
    "            denom_labels   = denom_labels.to(device)\n",
    "\n",
    "            c_pred, d_pred = model(imgs)\n",
    "            loss = compute_loss(c_pred, d_pred, country_labels, denom_labels)\n",
    "            val_loss += loss.item()\n",
    "\n",
    "            _, c_pred_labels = torch.max(c_pred, 1)\n",
    "            _, d_pred_labels = torch.max(d_pred, 1)\n",
    "\n",
    "            total += imgs.size(0)\n",
    "            correct_country += (c_pred_labels == country_labels).sum().item()\n",
    "            correct_denom   += (d_pred_labels == denom_labels).sum().item()\n",
    "\n",
    "    val_loss /= len(val_loader)\n",
    "    val_country_acc = correct_country / total\n",
    "    val_denom_acc   = correct_denom / total\n",
    "\n",
    "    # ---- Epoch summary ----\n",
    "    print(f\"  ➜ Train Loss: {train_loss:.4f} \"\n",
    "          f\"| Country Acc: {train_country_acc:.4f} \"\n",
    "          f\"| Denom Acc: {train_denom_acc:.4f}\")\n",
    "    print(f\"  ➜ Val   Loss: {val_loss:.4f} \"\n",
    "          f\"| Country Acc: {val_country_acc:.4f} \"\n",
    "          f\"| Denom Acc: {val_denom_acc:.4f}\")\n",
    "    print(f\"  ➜ Learning Rate: {scheduler.get_last_lr()[0]:.6f}\")\n"
   ]
  },
  {
   "cell_type": "code",
   "execution_count": 12,
   "metadata": {
    "execution": {
     "iopub.execute_input": "2025-09-28T16:50:02.555940Z",
     "iopub.status.busy": "2025-09-28T16:50:02.555182Z",
     "iopub.status.idle": "2025-09-28T16:50:02.611992Z",
     "shell.execute_reply": "2025-09-28T16:50:02.611188Z",
     "shell.execute_reply.started": "2025-09-28T16:50:02.555914Z"
    },
    "trusted": true
   },
   "outputs": [],
   "source": [
    "import torch\n",
    "\n",
    "# Save the model state dict (weights only)\n",
    "torch.save(model.state_dict(), \"currency_model_weights.pth\")\n"
   ]
  },
  {
   "cell_type": "code",
   "execution_count": null,
   "metadata": {
    "trusted": true
   },
   "outputs": [],
   "source": []
  },
  {
   "cell_type": "code",
   "execution_count": null,
   "metadata": {
    "trusted": true
   },
   "outputs": [],
   "source": []
  },
  {
   "cell_type": "code",
   "execution_count": null,
   "metadata": {
    "trusted": true
   },
   "outputs": [],
   "source": [
    "import torch\n",
    "from torchvision import transforms\n",
    "from PIL import Image\n",
    "# from model import ImprovedMultiTaskCNN   # <-- if saved in model.py\n",
    "\n",
    "# ----------------- CONFIG -----------------\n",
    "MODEL_PATH     = \"/kaggle/input/improved-97-per/pytorch/default/1/currency_model_weights (3)(97).pth\"     # Trained weights\n",
    "IMG_PATH       = \"/kaggle/input/paisaa/paisa(resized)/train/bagladesh/10/IMG-20230826-WA0001.jpg\"      # Test image\n",
    "NUM_COUNTRIES  = 6             # update with your dataset\n",
    "NUM_DENOMS     = 12             # update with your dataset\n",
    "DEVICE         = \"cuda\" if torch.cuda.is_available() else \"cpu\"\n",
    "\n",
    "# Label mappings (example)\n",
    "country_labels = [\"Nepal\", \"India\",  \"Bangladesh\", \"Bhutan\",\"Pakistan\",\n",
    "                  \"usa\", \"euro\"]\n",
    "denom_labels   = [\"5\", \"10\", \"20\", \"50\", \"100\", \"500\", \"1000\", \"2000\",\"5000\",\"2\",\"1\",\"200\"]\n",
    "\n",
    "# ----------------- LOAD MODEL -----------------\n",
    "model = ImprovedMultiTaskCNN(num_countries=NUM_COUNTRIES,\n",
    "                             num_denoms=NUM_DENOMS)\n",
    "model.load_state_dict(torch.load(MODEL_PATH, map_location=DEVICE))\n",
    "model.to(DEVICE)\n",
    "model.eval()\n",
    "\n",
    "# ----------------- PREPROCESS IMAGE -----------------\n",
    "transform = transforms.Compose([\n",
    "    transforms.Resize((224, 224)),\n",
    "    transforms.ToTensor(),\n",
    "    transforms.Normalize(mean=[0.485, 0.456, 0.406],\n",
    "                         std=[0.229, 0.224, 0.225])\n",
    "])\n",
    "\n",
    "img = Image.open(IMG_PATH).convert(\"RGB\")\n",
    "img_tensor = transform(img).unsqueeze(0).to(DEVICE)   # [1,3,224,224]\n",
    "\n",
    "# ----------------- INFERENCE -----------------\n",
    "with torch.no_grad():\n",
    "    country_logits, denom_logits = model(img_tensor)\n",
    "    country_pred = country_logits.argmax(dim=1).item()\n",
    "    denom_pred   = denom_logits.argmax(dim=1).item()\n",
    "\n",
    "print(f\"Predicted Country: {country_labels[country_pred]}\")\n",
    "print(f\"Predicted Denomination: {denom_labels[denom_pred]}\")\n"
   ]
  }
 ],
 "metadata": {
  "kaggle": {
   "accelerator": "gpu",
   "dataSources": [
    {
     "datasetId": 8358783,
     "sourceId": 13190017,
     "sourceType": "datasetVersion"
    }
   ],
   "dockerImageVersionId": 31090,
   "isGpuEnabled": true,
   "isInternetEnabled": true,
   "language": "python",
   "sourceType": "notebook"
  },
  "kernelspec": {
   "display_name": "Python 3",
   "language": "python",
   "name": "python3"
  },
  "language_info": {
   "codemirror_mode": {
    "name": "ipython",
    "version": 3
   },
   "file_extension": ".py",
   "mimetype": "text/x-python",
   "name": "python",
   "nbconvert_exporter": "python",
   "pygments_lexer": "ipython3",
   "version": "3.11.13"
  }
 },
 "nbformat": 4,
 "nbformat_minor": 4
}
