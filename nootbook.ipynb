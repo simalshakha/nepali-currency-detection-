{
 "cells": [
  {
   "cell_type": "code",
   "execution_count": 2,
   "id": "9009d593",
   "metadata": {},
   "outputs": [
    {
     "name": "stderr",
     "output_type": "stream",
     "text": [
      "Processing C:\\\\Users\\\\sshak\\\\Downloads\\\\dataset: 0it [00:00, ?it/s]\n",
      "Processing C:\\\\Users\\\\sshak\\\\Downloads\\\\dataset\\train: 0it [00:00, ?it/s]\n",
      "Processing C:\\\\Users\\\\sshak\\\\Downloads\\\\dataset\\train\\bagladesh: 0it [00:00, ?it/s]\n",
      "Processing C:\\\\Users\\\\sshak\\\\Downloads\\\\dataset\\train\\bagladesh\\10: 100%|██████████| 71/71 [00:04<00:00, 15.21it/s]\n",
      "Processing C:\\\\Users\\\\sshak\\\\Downloads\\\\dataset\\train\\bagladesh\\100: 100%|██████████| 97/97 [00:10<00:00,  9.68it/s]\n",
      "Processing C:\\\\Users\\\\sshak\\\\Downloads\\\\dataset\\train\\bagladesh\\1000: 100%|██████████| 181/181 [00:21<00:00,  8.39it/s]\n",
      "Processing C:\\\\Users\\\\sshak\\\\Downloads\\\\dataset\\train\\bagladesh\\2: 100%|██████████| 80/80 [00:03<00:00, 20.28it/s]\n",
      "Processing C:\\\\Users\\\\sshak\\\\Downloads\\\\dataset\\train\\bagladesh\\20: 100%|██████████| 151/151 [00:22<00:00,  6.68it/s]\n",
      "Processing C:\\\\Users\\\\sshak\\\\Downloads\\\\dataset\\train\\bagladesh\\200: 100%|██████████| 89/89 [00:06<00:00, 14.40it/s]\n",
      "Processing C:\\\\Users\\\\sshak\\\\Downloads\\\\dataset\\train\\bagladesh\\5: 100%|██████████| 90/90 [00:14<00:00,  6.42it/s]\n",
      "Processing C:\\\\Users\\\\sshak\\\\Downloads\\\\dataset\\train\\bagladesh\\50: 100%|██████████| 119/119 [00:15<00:00,  7.56it/s]\n",
      "Processing C:\\\\Users\\\\sshak\\\\Downloads\\\\dataset\\train\\bagladesh\\500: 100%|██████████| 148/148 [00:21<00:00,  6.90it/s]\n",
      "Processing C:\\\\Users\\\\sshak\\\\Downloads\\\\dataset\\train\\euro: 0it [00:00, ?it/s]\n",
      "Processing C:\\\\Users\\\\sshak\\\\Downloads\\\\dataset\\train\\euro\\10: 100%|██████████| 390/390 [00:40<00:00,  9.56it/s]\n",
      "Processing C:\\\\Users\\\\sshak\\\\Downloads\\\\dataset\\train\\euro\\100: 100%|██████████| 238/238 [00:34<00:00,  6.90it/s]\n",
      "Processing C:\\\\Users\\\\sshak\\\\Downloads\\\\dataset\\train\\euro\\20: 100%|██████████| 409/409 [00:38<00:00, 10.74it/s]\n",
      "Processing C:\\\\Users\\\\sshak\\\\Downloads\\\\dataset\\train\\euro\\200: 100%|██████████| 393/393 [00:35<00:00, 11.12it/s]\n",
      "Processing C:\\\\Users\\\\sshak\\\\Downloads\\\\dataset\\train\\euro\\5: 100%|██████████| 247/247 [00:31<00:00,  7.95it/s]\n",
      "Processing C:\\\\Users\\\\sshak\\\\Downloads\\\\dataset\\train\\euro\\50: 100%|██████████| 236/236 [00:27<00:00,  8.63it/s]\n",
      "Processing C:\\\\Users\\\\sshak\\\\Downloads\\\\dataset\\train\\euro\\500: 100%|██████████| 151/151 [00:04<00:00, 36.61it/s]\n",
      "Processing C:\\\\Users\\\\sshak\\\\Downloads\\\\dataset\\train\\indian: 0it [00:00, ?it/s]\n",
      "Processing C:\\\\Users\\\\sshak\\\\Downloads\\\\dataset\\train\\indian\\10: 100%|██████████| 448/448 [00:23<00:00, 18.86it/s]\n",
      "Processing C:\\\\Users\\\\sshak\\\\Downloads\\\\dataset\\train\\indian\\100: 100%|██████████| 450/450 [00:20<00:00, 21.98it/s]\n",
      "Processing C:\\\\Users\\\\sshak\\\\Downloads\\\\dataset\\train\\indian\\20: 100%|██████████| 450/450 [00:27<00:00, 16.33it/s]\n",
      "Processing C:\\\\Users\\\\sshak\\\\Downloads\\\\dataset\\train\\indian\\200: 100%|██████████| 500/500 [01:04<00:00,  7.78it/s]\n",
      "Processing C:\\\\Users\\\\sshak\\\\Downloads\\\\dataset\\train\\indian\\2000: 100%|██████████| 438/438 [00:43<00:00,  9.98it/s]\n",
      "Processing C:\\\\Users\\\\sshak\\\\Downloads\\\\dataset\\train\\indian\\50: 100%|██████████| 450/450 [00:33<00:00, 13.62it/s]\n",
      "Processing C:\\\\Users\\\\sshak\\\\Downloads\\\\dataset\\train\\indian\\500: 100%|██████████| 437/437 [00:45<00:00,  9.60it/s]\n",
      "Processing C:\\\\Users\\\\sshak\\\\Downloads\\\\dataset\\train\\nepali: 0it [00:00, ?it/s]\n",
      "Processing C:\\\\Users\\\\sshak\\\\Downloads\\\\dataset\\train\\nepali\\10: 100%|██████████| 3019/3019 [02:42<00:00, 18.63it/s]\n",
      "Processing C:\\\\Users\\\\sshak\\\\Downloads\\\\dataset\\train\\nepali\\100: 100%|██████████| 5565/5565 [04:17<00:00, 21.63it/s]\n",
      "Processing C:\\\\Users\\\\sshak\\\\Downloads\\\\dataset\\train\\nepali\\1000: 100%|██████████| 5031/5031 [03:48<00:00, 22.02it/s]\n",
      "Processing C:\\\\Users\\\\sshak\\\\Downloads\\\\dataset\\train\\nepali\\20: 100%|██████████| 2537/2537 [01:29<00:00, 28.43it/s]\n",
      "Processing C:\\\\Users\\\\sshak\\\\Downloads\\\\dataset\\train\\nepali\\5: 100%|██████████| 1499/1499 [00:50<00:00, 29.94it/s]\n",
      "Processing C:\\\\Users\\\\sshak\\\\Downloads\\\\dataset\\train\\nepali\\50: 100%|██████████| 2579/2579 [02:35<00:00, 16.57it/s]\n",
      "Processing C:\\\\Users\\\\sshak\\\\Downloads\\\\dataset\\train\\nepali\\500: 100%|██████████| 4933/4933 [04:10<00:00, 19.68it/s]\n",
      "Processing C:\\\\Users\\\\sshak\\\\Downloads\\\\dataset\\train\\pakistan: 0it [00:00, ?it/s]\n",
      "Processing C:\\\\Users\\\\sshak\\\\Downloads\\\\dataset\\train\\pakistan\\10: 100%|██████████| 547/547 [00:13<00:00, 41.50it/s]\n",
      "Processing C:\\\\Users\\\\sshak\\\\Downloads\\\\dataset\\train\\pakistan\\100: 100%|██████████| 561/561 [00:12<00:00, 45.92it/s]\n",
      "Processing C:\\\\Users\\\\sshak\\\\Downloads\\\\dataset\\train\\pakistan\\1000: 100%|██████████| 463/463 [00:10<00:00, 43.08it/s]\n",
      "Processing C:\\\\Users\\\\sshak\\\\Downloads\\\\dataset\\train\\pakistan\\20: 100%|██████████| 506/506 [00:13<00:00, 36.86it/s]\n",
      "Processing C:\\\\Users\\\\sshak\\\\Downloads\\\\dataset\\train\\pakistan\\50: 100%|██████████| 493/493 [00:11<00:00, 43.18it/s]\n",
      "Processing C:\\\\Users\\\\sshak\\\\Downloads\\\\dataset\\train\\pakistan\\500: 100%|██████████| 523/523 [00:12<00:00, 41.02it/s]\n",
      "Processing C:\\\\Users\\\\sshak\\\\Downloads\\\\dataset\\train\\pakistan\\5000: 100%|██████████| 518/518 [00:12<00:00, 42.85it/s]\n",
      "Processing C:\\\\Users\\\\sshak\\\\Downloads\\\\dataset\\train\\USA: 0it [00:00, ?it/s]\n",
      "Processing C:\\\\Users\\\\sshak\\\\Downloads\\\\dataset\\train\\USA\\1: 100%|██████████| 605/605 [00:14<00:00, 40.81it/s]\n",
      "Processing C:\\\\Users\\\\sshak\\\\Downloads\\\\dataset\\train\\USA\\10: 100%|██████████| 764/764 [00:19<00:00, 38.71it/s]\n",
      "Processing C:\\\\Users\\\\sshak\\\\Downloads\\\\dataset\\train\\USA\\100: 100%|██████████| 618/618 [00:17<00:00, 35.55it/s]\n",
      "Processing C:\\\\Users\\\\sshak\\\\Downloads\\\\dataset\\train\\USA\\2: 100%|██████████| 617/617 [00:14<00:00, 41.73it/s]\n",
      "Processing C:\\\\Users\\\\sshak\\\\Downloads\\\\dataset\\train\\USA\\5: 100%|██████████| 617/617 [00:16<00:00, 37.33it/s]\n",
      "Processing C:\\\\Users\\\\sshak\\\\Downloads\\\\dataset\\train\\USA\\50: 100%|██████████| 685/685 [00:17<00:00, 40.10it/s]"
     ]
    },
    {
     "name": "stdout",
     "output_type": "stream",
     "text": [
      "✅ All images resized and saved to: C:\\\\Users\\\\sshak\\\\Downloads\\\\paisa(resized)\n"
     ]
    },
    {
     "name": "stderr",
     "output_type": "stream",
     "text": [
      "\n"
     ]
    }
   ],
   "source": [
    "import os\n",
    "from PIL import Image\n",
    "from tqdm import tqdm  # shows a progress bar\n",
    "\n",
    "# ✅ Change these paths\n",
    "input_dir = r\"C:\\\\Users\\\\sshak\\\\Downloads\\\\dataset\"     # original dataset\n",
    "output_dir = r\"C:\\\\Users\\\\sshak\\\\Downloads\\\\paisa(resized)\"  # resized dataset will be saved here\n",
    "target_size = (224, 224)                         # desired size (width, height)\n",
    "                  # desired size (width, height)\n",
    "\n",
    "# ✅ Create output directory if it doesn't exist\n",
    "os.makedirs(output_dir, exist_ok=True)\n",
    "\n",
    "# ✅ Walk through all subfolders and resize images\n",
    "for root, dirs, files in os.walk(input_dir):\n",
    "    for file in tqdm(files, desc=f\"Processing {root}\"):\n",
    "        if file.lower().endswith(('.jpg', '.jpeg', '.png')):\n",
    "            # Path to the current image\n",
    "            img_path = os.path.join(root, file)\n",
    "\n",
    "            # Open and resize\n",
    "            img = Image.open(img_path).convert(\"RGB\")\n",
    "            img = img.resize(target_size, Image.LANCZOS)\n",
    "\n",
    "            # Preserve folder structure in output\n",
    "            rel_path = os.path.relpath(root, input_dir)\n",
    "            save_dir = os.path.join(output_dir, rel_path)\n",
    "            os.makedirs(save_dir, exist_ok=True)\n",
    "\n",
    "            # Save resized image\n",
    "            save_path = os.path.join(save_dir, file)\n",
    "            img.save(save_path, quality=95)\n",
    "\n",
    "print(\"✅ All images resized and saved to:\", output_dir)\n",
    "\n"
   ]
  },
  {
   "cell_type": "code",
   "execution_count": null,
   "id": "b1adc3e9",
   "metadata": {},
   "outputs": [],
   "source": []
  }
 ],
 "metadata": {
  "kernelspec": {
   "display_name": "Python 3",
   "language": "python",
   "name": "python3"
  },
  "language_info": {
   "codemirror_mode": {
    "name": "ipython",
    "version": 3
   },
   "file_extension": ".py",
   "mimetype": "text/x-python",
   "name": "python",
   "nbconvert_exporter": "python",
   "pygments_lexer": "ipython3",
   "version": "3.11.9"
  }
 },
 "nbformat": 4,
 "nbformat_minor": 5
}
